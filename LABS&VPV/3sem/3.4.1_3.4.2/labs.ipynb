{
 "cells": [
  {
   "cell_type": "markdown",
   "metadata": {},
   "source": [
    ".\n",
    ".\n",
    ".\n",
    ".\n",
    ".\n",
    "part of main program\n",
    ".\n",
    ".\n",
    ".\n",
    ".\n",
    "."
   ]
  },
  {
   "cell_type": "code",
   "execution_count": null,
   "metadata": {},
   "outputs": [
    {
     "name": "stderr",
     "output_type": "stream",
     "text": [
      "/home/oleg/.local/lib/python3.10/site-packages/matplotlib/projections/__init__.py:63: UserWarning: Unable to import Axes3D. This may be due to multiple versions of Matplotlib being installed (e.g. as a system package and as a pip package). As a result, the 3D projection is not available.\n",
      "  warnings.warn(\"Unable to import Axes3D. This may be due to multiple versions of \"\n"
     ]
    }
   ],
   "source": [
    "# some import\n",
    "\n",
    "import numpy as np\n",
    "import pandas as pd\n",
    "import matplotlib.pyplot as plt\n",
    "import tkinter as tk\n",
    "import os"
   ]
  },
  {
   "cell_type": "code",
   "execution_count": 16,
   "metadata": {},
   "outputs": [
    {
     "data": {
      "text/html": [
       "<div>\n",
       "<style scoped>\n",
       "    .dataframe tbody tr th:only-of-type {\n",
       "        vertical-align: middle;\n",
       "    }\n",
       "\n",
       "    .dataframe tbody tr th {\n",
       "        vertical-align: top;\n",
       "    }\n",
       "\n",
       "    .dataframe thead th {\n",
       "        text-align: right;\n",
       "    }\n",
       "</style>\n",
       "<table border=\"1\" class=\"dataframe\">\n",
       "  <thead>\n",
       "    <tr style=\"text-align: right;\">\n",
       "      <th></th>\n",
       "      <th>I</th>\n",
       "      <th>B</th>\n",
       "      <th>m_Al</th>\n",
       "      <th>m_Cu</th>\n",
       "      <th>m_C</th>\n",
       "      <th>m_W</th>\n",
       "    </tr>\n",
       "  </thead>\n",
       "  <tbody>\n",
       "    <tr>\n",
       "      <th>0</th>\n",
       "      <td>0.23</td>\n",
       "      <td>0.6</td>\n",
       "      <td>0</td>\n",
       "      <td>-1</td>\n",
       "      <td>-1</td>\n",
       "      <td>1</td>\n",
       "    </tr>\n",
       "    <tr>\n",
       "      <th>1</th>\n",
       "      <td>0.40</td>\n",
       "      <td>0.8</td>\n",
       "      <td>1</td>\n",
       "      <td>-2</td>\n",
       "      <td>-5</td>\n",
       "      <td>4</td>\n",
       "    </tr>\n",
       "    <tr>\n",
       "      <th>2</th>\n",
       "      <td>0.80</td>\n",
       "      <td>1.7</td>\n",
       "      <td>4</td>\n",
       "      <td>-3</td>\n",
       "      <td>-23</td>\n",
       "      <td>14</td>\n",
       "    </tr>\n",
       "    <tr>\n",
       "      <th>3</th>\n",
       "      <td>0.12</td>\n",
       "      <td>2.7</td>\n",
       "      <td>9</td>\n",
       "      <td>-5</td>\n",
       "      <td>-47</td>\n",
       "      <td>31</td>\n",
       "    </tr>\n",
       "    <tr>\n",
       "      <th>4</th>\n",
       "      <td>0.16</td>\n",
       "      <td>3.8</td>\n",
       "      <td>15</td>\n",
       "      <td>-8</td>\n",
       "      <td>-83</td>\n",
       "      <td>54</td>\n",
       "    </tr>\n",
       "    <tr>\n",
       "      <th>5</th>\n",
       "      <td>0.20</td>\n",
       "      <td>4.5</td>\n",
       "      <td>22</td>\n",
       "      <td>-12</td>\n",
       "      <td>-127</td>\n",
       "      <td>82</td>\n",
       "    </tr>\n",
       "    <tr>\n",
       "      <th>6</th>\n",
       "      <td>0.24</td>\n",
       "      <td>5.3</td>\n",
       "      <td>34</td>\n",
       "      <td>-16</td>\n",
       "      <td>-178</td>\n",
       "      <td>114</td>\n",
       "    </tr>\n",
       "    <tr>\n",
       "      <th>7</th>\n",
       "      <td>0.28</td>\n",
       "      <td>5.9</td>\n",
       "      <td>42</td>\n",
       "      <td>-20</td>\n",
       "      <td>-229</td>\n",
       "      <td>145</td>\n",
       "    </tr>\n",
       "    <tr>\n",
       "      <th>8</th>\n",
       "      <td>0.30</td>\n",
       "      <td>6.2</td>\n",
       "      <td>47</td>\n",
       "      <td>-22</td>\n",
       "      <td>-255</td>\n",
       "      <td>162</td>\n",
       "    </tr>\n",
       "  </tbody>\n",
       "</table>\n",
       "</div>"
      ],
      "text/plain": [
       "      I    B  m_Al  m_Cu  m_C  m_W\n",
       "0  0.23  0.6     0    -1   -1    1\n",
       "1  0.40  0.8     1    -2   -5    4\n",
       "2  0.80  1.7     4    -3  -23   14\n",
       "3  0.12  2.7     9    -5  -47   31\n",
       "4  0.16  3.8    15    -8  -83   54\n",
       "5  0.20  4.5    22   -12 -127   82\n",
       "6  0.24  5.3    34   -16 -178  114\n",
       "7  0.28  5.9    42   -20 -229  145\n",
       "8  0.30  6.2    47   -22 -255  162"
      ]
     },
     "execution_count": 16,
     "metadata": {},
     "output_type": "execute_result"
    }
   ],
   "source": [
    "# reading of data\n",
    "\n",
    "df = pd.read_excel(\n",
    "                \"data.xlsx\",\n",
    "                sheet_name=\"Лист2\"\n",
    "              )\n",
    "# df.loc[len(df.index)] = df.mean(axis=0)\n",
    "# df = df.loc[:, [\"I, mA\", \"U, Upp\", \"чаостота\"]]\n",
    "# df[\"1/ksi*2\"] = (df[\"чаостота\"]*df[\"I, mA\"]*0.001/df[\"U, Upp\"])**2\n",
    "# df[\"nu*2\"] = df[\"чаостота\"]*df[\"чаостота\"]\n",
    "df"
   ]
  },
  {
   "cell_type": "code",
   "execution_count": 35,
   "metadata": {},
   "outputs": [
    {
     "data": {
      "image/png": "[encoded data removed]",
      "text/plain": [
       "<Figure size 1000x600 with 1 Axes>"
      ]
     },
     "metadata": {},
     "output_type": "display_data"
    },
    {
     "name": "stdout",
     "output_type": "stream",
     "text": [
      "164470.24674483537\n"
     ]
    }
   ],
   "source": [
    "# data analise\n",
    "\n",
    "x = [0.6, 0.8, 1.7, 2.7, 3.8, 4.5, 5.3, 5.9, 6.2]\n",
    "x = [(t*(1e-3))**2 for t in x]\n",
    "# y = [0,1,4,9,15,22,34,42,47]\n",
    "# y = [-1, -2, -3, -5, -8, -12, -16, -20, -22]\n",
    "# y = [-1, -5, -23, -47, -83, -127, -178, -229, -255]\n",
    "y = [1, 4, 14, 31, 54, 82, 114, 145, 162]\n",
    "y = [t*9.81*10e-6 for t in y]\n",
    "plt.figure(figsize=(10,6))\n",
    "plt.title('Зависимость delta P от B^2')\n",
    "plt.xlabel('B^2, Вб')\n",
    "plt.ylabel('delta P, Н')\n",
    "plt.grid()\n",
    "plt.errorbar(x, y, yerr=0.0006, xerr=0.000002, fmt='ob')\n",
    "p=np.polyfit(x, y, 1)\n",
    "# p = [p[0]+0.01, p[1]]\n",
    "xx=np.linspace(min(x), max(x), 100)\n",
    "yy=np.polyval(p, xx)\n",
    "plt.plot(xx, yy, '-r', label=f'k={p[0]:.6f}, b={p[1]:.6f}')\n",
    "plt.legend()\n",
    "plt.savefig(\"./data/data4.png\", bbox_inches='tight')\n",
    "plt.show()\n",
    "# gl1 = f'k={1/p[0]:.6f}'\n",
    "# print(gl1)\n",
    "# print(p)\n",
    "print(sum([i**2 for i in y])/sum([i**2 for i in x]))"
   ]
  },
  {
   "cell_type": "markdown",
   "metadata": {},
   "source": [
    ".\n",
    ".\n",
    ".\n",
    ".\n",
    ".\n",
    "part of LaTex\n",
    ".\n",
    ".\n",
    ".\n",
    ".\n",
    "."
   ]
  },
  {
   "cell_type": "code",
   "execution_count": 157,
   "metadata": {},
   "outputs": [
    {
     "name": "stdout",
     "output_type": "stream",
     "text": [
      "\\begin{tabular}{rrrr}\n",
      "\\toprule\n",
      "I & U & psi without PI & nu \\\\\n",
      "\\midrule\n",
      "265.000000 & 0.620700 & -1.570796 & 1150.000000 \\\\\n",
      "242.000000 & 0.567900 & -1.481037 & 1460.500000 \\\\\n",
      "215.000000 & 0.504200 & -1.454441 & 1854.835000 \\\\\n",
      "186.000000 & 0.433900 & -1.285197 & 2355.640450 \\\\\n",
      "157.000000 & 0.362500 & -1.196797 & 2991.663371 \\\\\n",
      "129.000000 & 0.294700 & -1.094797 & 3799.412482 \\\\\n",
      "105.000000 & 0.233800 & -0.966644 & 4825.253852 \\\\\n",
      "84.000000 & 0.180900 & -0.822798 & 6128.072392 \\\\\n",
      "66.800000 & 0.136400 & -0.646798 & 7782.651938 \\\\\n",
      "0.521700 & 0.099800 & -0.483322 & 9883.967961 \\\\\n",
      "39.580000 & 0.070100 & 0.000000 & 12552.639310 \\\\\n",
      "29.320000 & 0.048400 & 0.196350 & 15941.851924 \\\\\n",
      "20.260000 & 0.033000 & -0.565487 & 20246.151944 \\\\\n",
      "11.850000 & 0.022400 & -0.942478 & 25712.612968 \\\\\n",
      "3.700000 & 0.011300 & -1.151917 & 32655.018470 \\\\\n",
      "\\bottomrule\n",
      "\\end{tabular}\n",
      "\n"
     ]
    }
   ],
   "source": [
    "# tables from  exel to LaTex\n",
    "\n",
    "\n",
    "\n",
    "titles = []\n",
    "\n",
    "# for column in titles:\n",
    "#     data = df.to_latex\n",
    "data = df.to_latex(index=False)\n",
    "print(data)"
   ]
  }
 ],
 "metadata": {
  "kernelspec": {
   "display_name": "Python 3",
   "language": "python",
   "name": "python3"
  },
  "language_info": {
   "codemirror_mode": {
    "name": "ipython",
    "version": 3
   },
   "file_extension": ".py",
   "mimetype": "text/x-python",
   "name": "python",
   "nbconvert_exporter": "python",
   "pygments_lexer": "ipython3",
   "version": "3.10.12"
  }
 },
 "nbformat": 4,
 "nbformat_minor": 2
}
