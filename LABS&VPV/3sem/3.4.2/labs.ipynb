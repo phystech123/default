{
 "cells": [
  {
   "cell_type": "markdown",
   "metadata": {},
   "source": [
    ".\n",
    ".\n",
    ".\n",
    ".\n",
    ".\n",
    "part of main program\n",
    ".\n",
    ".\n",
    ".\n",
    ".\n",
    "."
   ]
  },
  {
   "cell_type": "code",
   "execution_count": 2,
   "metadata": {},
   "outputs": [
    {
     "name": "stderr",
     "output_type": "stream",
     "text": [
      "/home/oleg/.local/lib/python3.10/site-packages/matplotlib/projections/__init__.py:63: UserWarning: Unable to import Axes3D. This may be due to multiple versions of Matplotlib being installed (e.g. as a system package and as a pip package). As a result, the 3D projection is not available.\n",
      "  warnings.warn(\"Unable to import Axes3D. This may be due to multiple versions of \"\n"
     ]
    }
   ],
   "source": [
    "# some import\n",
    "\n",
    "import numpy as np\n",
    "import pandas as pd\n",
    "import matplotlib.pyplot as plt\n",
    "import tkinter as tk\n",
    "import os"
   ]
  },
  {
   "cell_type": "code",
   "execution_count": 4,
   "metadata": {},
   "outputs": [
    {
     "data": {
      "text/html": [
       "<div>\n",
       "<style scoped>\n",
       "    .dataframe tbody tr th:only-of-type {\n",
       "        vertical-align: middle;\n",
       "    }\n",
       "\n",
       "    .dataframe tbody tr th {\n",
       "        vertical-align: top;\n",
       "    }\n",
       "\n",
       "    .dataframe thead th {\n",
       "        text-align: right;\n",
       "    }\n",
       "</style>\n",
       "<table border=\"1\" class=\"dataframe\">\n",
       "  <thead>\n",
       "    <tr style=\"text-align: right;\">\n",
       "      <th></th>\n",
       "      <th>tтемп, C, x</th>\n",
       "      <th>τпреиод, мкс</th>\n",
       "      <th>τ0</th>\n",
       "      <th>y</th>\n",
       "    </tr>\n",
       "  </thead>\n",
       "  <tbody>\n",
       "    <tr>\n",
       "      <th>0</th>\n",
       "      <td>14.35</td>\n",
       "      <td>7.92</td>\n",
       "      <td>6.91</td>\n",
       "      <td>0.07</td>\n",
       "    </tr>\n",
       "    <tr>\n",
       "      <th>1</th>\n",
       "      <td>16.06</td>\n",
       "      <td>7.88</td>\n",
       "      <td>6.91</td>\n",
       "      <td>0.07</td>\n",
       "    </tr>\n",
       "    <tr>\n",
       "      <th>2</th>\n",
       "      <td>18.07</td>\n",
       "      <td>7.79</td>\n",
       "      <td>6.91</td>\n",
       "      <td>0.08</td>\n",
       "    </tr>\n",
       "    <tr>\n",
       "      <th>3</th>\n",
       "      <td>20.04</td>\n",
       "      <td>7.65</td>\n",
       "      <td>6.91</td>\n",
       "      <td>0.09</td>\n",
       "    </tr>\n",
       "    <tr>\n",
       "      <th>4</th>\n",
       "      <td>22.00</td>\n",
       "      <td>7.48</td>\n",
       "      <td>6.91</td>\n",
       "      <td>0.12</td>\n",
       "    </tr>\n",
       "    <tr>\n",
       "      <th>5</th>\n",
       "      <td>24.00</td>\n",
       "      <td>7.27</td>\n",
       "      <td>6.91</td>\n",
       "      <td>0.20</td>\n",
       "    </tr>\n",
       "    <tr>\n",
       "      <th>6</th>\n",
       "      <td>26.00</td>\n",
       "      <td>7.15</td>\n",
       "      <td>6.91</td>\n",
       "      <td>0.29</td>\n",
       "    </tr>\n",
       "    <tr>\n",
       "      <th>7</th>\n",
       "      <td>28.00</td>\n",
       "      <td>7.10</td>\n",
       "      <td>6.91</td>\n",
       "      <td>0.37</td>\n",
       "    </tr>\n",
       "    <tr>\n",
       "      <th>8</th>\n",
       "      <td>30.00</td>\n",
       "      <td>7.07</td>\n",
       "      <td>6.91</td>\n",
       "      <td>0.45</td>\n",
       "    </tr>\n",
       "    <tr>\n",
       "      <th>9</th>\n",
       "      <td>32.00</td>\n",
       "      <td>7.05</td>\n",
       "      <td>6.91</td>\n",
       "      <td>0.52</td>\n",
       "    </tr>\n",
       "    <tr>\n",
       "      <th>10</th>\n",
       "      <td>34.00</td>\n",
       "      <td>7.03</td>\n",
       "      <td>6.91</td>\n",
       "      <td>0.59</td>\n",
       "    </tr>\n",
       "    <tr>\n",
       "      <th>11</th>\n",
       "      <td>36.00</td>\n",
       "      <td>7.02</td>\n",
       "      <td>6.91</td>\n",
       "      <td>0.65</td>\n",
       "    </tr>\n",
       "    <tr>\n",
       "      <th>12</th>\n",
       "      <td>38.00</td>\n",
       "      <td>7.01</td>\n",
       "      <td>6.91</td>\n",
       "      <td>0.71</td>\n",
       "    </tr>\n",
       "    <tr>\n",
       "      <th>13</th>\n",
       "      <td>40.00</td>\n",
       "      <td>7.00</td>\n",
       "      <td>6.91</td>\n",
       "      <td>0.76</td>\n",
       "    </tr>\n",
       "  </tbody>\n",
       "</table>\n",
       "</div>"
      ],
      "text/plain": [
       "    tтемп, C, x  τпреиод, мкс    τ0     y\n",
       "0         14.35          7.92  6.91  0.07\n",
       "1         16.06          7.88  6.91  0.07\n",
       "2         18.07          7.79  6.91  0.08\n",
       "3         20.04          7.65  6.91  0.09\n",
       "4         22.00          7.48  6.91  0.12\n",
       "5         24.00          7.27  6.91  0.20\n",
       "6         26.00          7.15  6.91  0.29\n",
       "7         28.00          7.10  6.91  0.37\n",
       "8         30.00          7.07  6.91  0.45\n",
       "9         32.00          7.05  6.91  0.52\n",
       "10        34.00          7.03  6.91  0.59\n",
       "11        36.00          7.02  6.91  0.65\n",
       "12        38.00          7.01  6.91  0.71\n",
       "13        40.00          7.00  6.91  0.76"
      ]
     },
     "execution_count": 4,
     "metadata": {},
     "output_type": "execute_result"
    }
   ],
   "source": [
    "# reading of data\n",
    "\n",
    "df = pd.read_excel(\n",
    "                \"data/3.4.2.xlsx\",\n",
    "                sheet_name=\"Лист1\"\n",
    "              )\n",
    "# df.loc[len(df.index)] = df.mean(axis=0)\n",
    "# df = df.loc[:, [\"I, mA\", \"U, Upp\", \"чаостота\"]]\n",
    "# df[\"1/ksi*2\"] = (df[\"чаостота\"]*df[\"I, mA\"]*0.001/df[\"U, Upp\"])**2\n",
    "# df[\"nu*2\"] = df[\"чаостота\"]*df[\"чаостота\"]\n",
    "df"
   ]
  },
  {
   "cell_type": "code",
   "execution_count": 5,
   "metadata": {},
   "outputs": [
    {
     "data": {
      "image/png": "[encoded data removed]",
      "text/plain": [
       "<Figure size 1000x600 with 1 Axes>"
      ]
     },
     "metadata": {},
     "output_type": "display_data"
    },
    {
     "name": "stdout",
     "output_type": "stream",
     "text": [
      "0.00023579828071082384\n"
     ]
    }
   ],
   "source": [
    "# data analise\n",
    "\n",
    "y = df[\"y\"]\n",
    "x = df[\"tтемп, C, x\"]\n",
    "plt.figure(figsize=(10,6))\n",
    "plt.title('Зависимость delta P от B^2')\n",
    "plt.xlabel('T')\n",
    "plt.ylabel('Y')\n",
    "plt.grid()\n",
    "plt.errorbar(x, y, yerr=0.0006, xerr=0.000002, fmt='ob')\n",
    "p=np.polyfit(x[4:-2], y[4:-2], 1)\n",
    "# p = [p[0]+0.01, p[1]]\n",
    "xx=np.linspace(min(x[4:]-1), max(x[4:]-1), 100)\n",
    "yy=np.polyval(p, xx)\n",
    "plt.plot(xx, yy, '-r', label=f'k={p[0]:.6f}, b={p[1]:.6f}')\n",
    "plt.legend()\n",
    "plt.savefig(\"./data/data1.png\", bbox_inches='tight')\n",
    "plt.show()\n",
    "# gl1 = f'k={1/p[0]:.6f}'\n",
    "# print(gl1)\n",
    "# print(p)\n",
    "print(sum([i**2 for i in y])/sum([i**2 for i in x]))"
   ]
  },
  {
   "cell_type": "markdown",
   "metadata": {},
   "source": [
    ".\n",
    ".\n",
    ".\n",
    ".\n",
    ".\n",
    "part of LaTex\n",
    ".\n",
    ".\n",
    ".\n",
    ".\n",
    "."
   ]
  },
  {
   "cell_type": "code",
   "execution_count": 6,
   "metadata": {},
   "outputs": [
    {
     "name": "stdout",
     "output_type": "stream",
     "text": [
      "\\begin{tabular}{rrrr}\n",
      "\\toprule\n",
      "tтемп, C, x & τпреиод, мкс & τ0 & y \\\\\n",
      "\\midrule\n",
      "14.350000 & 7.920000 & 6.910000 & 0.070000 \\\\\n",
      "16.060000 & 7.880000 & 6.910000 & 0.070000 \\\\\n",
      "18.070000 & 7.790000 & 6.910000 & 0.080000 \\\\\n",
      "20.040000 & 7.650000 & 6.910000 & 0.090000 \\\\\n",
      "22.000000 & 7.480000 & 6.910000 & 0.120000 \\\\\n",
      "24.000000 & 7.270000 & 6.910000 & 0.200000 \\\\\n",
      "26.000000 & 7.150000 & 6.910000 & 0.290000 \\\\\n",
      "28.000000 & 7.100000 & 6.910000 & 0.370000 \\\\\n",
      "30.000000 & 7.070000 & 6.910000 & 0.450000 \\\\\n",
      "32.000000 & 7.050000 & 6.910000 & 0.520000 \\\\\n",
      "34.000000 & 7.030000 & 6.910000 & 0.590000 \\\\\n",
      "36.000000 & 7.020000 & 6.910000 & 0.650000 \\\\\n",
      "38.000000 & 7.010000 & 6.910000 & 0.710000 \\\\\n",
      "40.000000 & 7.000000 & 6.910000 & 0.760000 \\\\\n",
      "\\bottomrule\n",
      "\\end{tabular}\n",
      "\n"
     ]
    }
   ],
   "source": [
    "# tables from  exel to LaTex\n",
    "\n",
    "\n",
    "\n",
    "titles = []\n",
    "\n",
    "# for column in titles:\n",
    "#     data = df.to_latex\n",
    "data = df.to_latex(index=False)\n",
    "print(data)"
   ]
  }
 ],
 "metadata": {
  "kernelspec": {
   "display_name": "Python 3",
   "language": "python",
   "name": "python3"
  },
  "language_info": {
   "codemirror_mode": {
    "name": "ipython",
    "version": 3
   },
   "file_extension": ".py",
   "mimetype": "text/x-python",
   "name": "python",
   "nbconvert_exporter": "python",
   "pygments_lexer": "ipython3",
   "version": "3.10.12"
  }
 },
 "nbformat": 4,
 "nbformat_minor": 2
}
