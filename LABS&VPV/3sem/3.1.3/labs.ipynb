{
 "cells": [
  {
   "cell_type": "markdown",
   "metadata": {},
   "source": [
    ".\n",
    ".\n",
    ".\n",
    ".\n",
    ".\n",
    "part of main program\n",
    ".\n",
    ".\n",
    ".\n",
    ".\n",
    "."
   ]
  },
  {
   "cell_type": "code",
   "execution_count": 1,
   "metadata": {},
   "outputs": [
    {
     "name": "stderr",
     "output_type": "stream",
     "text": [
      "/home/oleg/.local/lib/python3.10/site-packages/matplotlib/projections/__init__.py:63: UserWarning: Unable to import Axes3D. This may be due to multiple versions of Matplotlib being installed (e.g. as a system package and as a pip package). As a result, the 3D projection is not available.\n",
      "  warnings.warn(\"Unable to import Axes3D. This may be due to multiple versions of \"\n"
     ]
    }
   ],
   "source": [
    "# some import\n",
    "\n",
    "import numpy as np\n",
    "import pandas as pd\n",
    "import matplotlib.pyplot as plt\n",
    "import tkinter as tk\n",
    "import os"
   ]
  },
  {
   "cell_type": "code",
   "execution_count": 26,
   "metadata": {},
   "outputs": [
    {
     "data": {
      "text/html": [
       "<div>\n",
       "<style scoped>\n",
       "    .dataframe tbody tr th:only-of-type {\n",
       "        vertical-align: middle;\n",
       "    }\n",
       "\n",
       "    .dataframe tbody tr th {\n",
       "        vertical-align: top;\n",
       "    }\n",
       "\n",
       "    .dataframe thead th {\n",
       "        text-align: right;\n",
       "    }\n",
       "</style>\n",
       "<table border=\"1\" class=\"dataframe\">\n",
       "  <thead>\n",
       "    <tr style=\"text-align: right;\">\n",
       "      <th></th>\n",
       "      <th>время_колебаний</th>\n",
       "      <th>количество_колебаний</th>\n",
       "      <th>количество_шаров</th>\n",
       "    </tr>\n",
       "  </thead>\n",
       "  <tbody>\n",
       "    <tr>\n",
       "      <th>0</th>\n",
       "      <td>23.15</td>\n",
       "      <td>5.0</td>\n",
       "      <td>12.0</td>\n",
       "    </tr>\n",
       "    <tr>\n",
       "      <th>1</th>\n",
       "      <td>15.19</td>\n",
       "      <td>5.0</td>\n",
       "      <td>12.0</td>\n",
       "    </tr>\n",
       "    <tr>\n",
       "      <th>2</th>\n",
       "      <td>14.26</td>\n",
       "      <td>5.0</td>\n",
       "      <td>11.0</td>\n",
       "    </tr>\n",
       "    <tr>\n",
       "      <th>3</th>\n",
       "      <td>26.56</td>\n",
       "      <td>10.0</td>\n",
       "      <td>10.0</td>\n",
       "    </tr>\n",
       "    <tr>\n",
       "      <th>4</th>\n",
       "      <td>23.93</td>\n",
       "      <td>10.0</td>\n",
       "      <td>9.0</td>\n",
       "    </tr>\n",
       "    <tr>\n",
       "      <th>5</th>\n",
       "      <td>21.00</td>\n",
       "      <td>10.0</td>\n",
       "      <td>8.0</td>\n",
       "    </tr>\n",
       "    <tr>\n",
       "      <th>6</th>\n",
       "      <td>19.00</td>\n",
       "      <td>10.0</td>\n",
       "      <td>7.0</td>\n",
       "    </tr>\n",
       "    <tr>\n",
       "      <th>7</th>\n",
       "      <td>16.25</td>\n",
       "      <td>10.0</td>\n",
       "      <td>6.0</td>\n",
       "    </tr>\n",
       "    <tr>\n",
       "      <th>8</th>\n",
       "      <td>13.40</td>\n",
       "      <td>10.0</td>\n",
       "      <td>5.0</td>\n",
       "    </tr>\n",
       "    <tr>\n",
       "      <th>9</th>\n",
       "      <td>11.38</td>\n",
       "      <td>10.0</td>\n",
       "      <td>4.0</td>\n",
       "    </tr>\n",
       "    <tr>\n",
       "      <th>10</th>\n",
       "      <td>7.03</td>\n",
       "      <td>10.0</td>\n",
       "      <td>3.0</td>\n",
       "    </tr>\n",
       "  </tbody>\n",
       "</table>\n",
       "</div>"
      ],
      "text/plain": [
       "    время_колебаний  количество_колебаний  количество_шаров\n",
       "0             23.15                   5.0              12.0\n",
       "1             15.19                   5.0              12.0\n",
       "2             14.26                   5.0              11.0\n",
       "3             26.56                  10.0              10.0\n",
       "4             23.93                  10.0               9.0\n",
       "5             21.00                  10.0               8.0\n",
       "6             19.00                  10.0               7.0\n",
       "7             16.25                  10.0               6.0\n",
       "8             13.40                  10.0               5.0\n",
       "9             11.38                  10.0               4.0\n",
       "10             7.03                  10.0               3.0"
      ]
     },
     "execution_count": 26,
     "metadata": {},
     "output_type": "execute_result"
    }
   ],
   "source": [
    "df = pd.read_excel(\n",
    "                \"data.xlsx\", \n",
    "                sheet_name=\"горизонталь\"\n",
    "              )\n",
    "\n",
    "# df.loc[len(df.index)] = df.mean(axis=0)\n",
    "df = pd.DataFrame([df[\"время_колебаний\"],  df[\"количество_колебаний\"], df[\"количество_шаров\"]]).transpose()\n",
    "df"
   ]
  },
  {
   "cell_type": "code",
   "execution_count": 18,
   "metadata": {},
   "outputs": [
    {
     "data": {
      "image/png": "[encoded data removed]",
      "text/plain": [
       "<Figure size 1000x600 with 1 Axes>"
      ]
     },
     "metadata": {},
     "output_type": "display_data"
    },
    {
     "name": "stdout",
     "output_type": "stream",
     "text": [
      "0.06882110232558138\n"
     ]
    }
   ],
   "source": [
    "# data analise\n",
    "y = df[\"время_колебаний\"]/df[\"количество_колебаний\"].to_list()\n",
    "x = df[\"количество_шаров\"].to_list()\n",
    "x = x[1:]\n",
    "y = y[1:]\n",
    "plt.figure(figsize=(10,6))\n",
    "# plt.title('Зависимость teta от R')\n",
    "plt.xlabel('nu^2')\n",
    "plt.ylabel('1/ksi^2')\n",
    "plt.grid()\n",
    "plt.errorbar(x, y, yerr=0.000004, xerr=0, fmt='ob')\n",
    "p=np.polyfit(x, y, 1)\n",
    "# p = [p[0]+0.01, p[1]]\n",
    "xx=np.linspace(min(x), max(x), 100)\n",
    "yy=np.polyval(p, xx)\n",
    "plt.plot(xx, yy, '-r', label=f'k={p[0]:.6f}, b={p[1]:.6f}')\n",
    "plt.legend()\n",
    "plt.savefig(\"./pictures/data1.png\", bbox_inches='tight')\n",
    "plt.show()\n",
    "# gl1 = f'k={1/p[0]:.6f}'\n",
    "# print(gl1)\n",
    "# print(p)\n",
    "print(sum([i**2 for i in y])/sum([i**2 for i in x]))"
   ]
  },
  {
   "cell_type": "code",
   "execution_count": 20,
   "metadata": {},
   "outputs": [
    {
     "data": {
      "text/html": [
       "<div>\n",
       "<style scoped>\n",
       "    .dataframe tbody tr th:only-of-type {\n",
       "        vertical-align: middle;\n",
       "    }\n",
       "\n",
       "    .dataframe tbody tr th {\n",
       "        vertical-align: top;\n",
       "    }\n",
       "\n",
       "    .dataframe thead th {\n",
       "        text-align: right;\n",
       "    }\n",
       "</style>\n",
       "<table border=\"1\" class=\"dataframe\">\n",
       "  <thead>\n",
       "    <tr style=\"text-align: right;\">\n",
       "      <th></th>\n",
       "      <th>количество_шаров</th>\n",
       "      <th>плечо</th>\n",
       "      <th>масса</th>\n",
       "      <th>moment</th>\n",
       "    </tr>\n",
       "  </thead>\n",
       "  <tbody>\n",
       "    <tr>\n",
       "      <th>0</th>\n",
       "      <td>12</td>\n",
       "      <td>5</td>\n",
       "      <td>0.195</td>\n",
       "      <td>9.56475</td>\n",
       "    </tr>\n",
       "    <tr>\n",
       "      <th>1</th>\n",
       "      <td>10</td>\n",
       "      <td>4</td>\n",
       "      <td>0.161</td>\n",
       "      <td>6.31764</td>\n",
       "    </tr>\n",
       "    <tr>\n",
       "      <th>2</th>\n",
       "      <td>8</td>\n",
       "      <td>2</td>\n",
       "      <td>0.159</td>\n",
       "      <td>3.11958</td>\n",
       "    </tr>\n",
       "    <tr>\n",
       "      <th>3</th>\n",
       "      <td>6</td>\n",
       "      <td>2</td>\n",
       "      <td>0.134</td>\n",
       "      <td>2.62908</td>\n",
       "    </tr>\n",
       "    <tr>\n",
       "      <th>4</th>\n",
       "      <td>4</td>\n",
       "      <td>1</td>\n",
       "      <td>0.349</td>\n",
       "      <td>3.42369</td>\n",
       "    </tr>\n",
       "  </tbody>\n",
       "</table>\n",
       "</div>"
      ],
      "text/plain": [
       "   количество_шаров  плечо  масса   moment\n",
       "0                12      5  0.195  9.56475\n",
       "1                10      4  0.161  6.31764\n",
       "2                 8      2  0.159  3.11958\n",
       "3                 6      2  0.134  2.62908\n",
       "4                 4      1  0.349  3.42369"
      ]
     },
     "execution_count": 20,
     "metadata": {},
     "output_type": "execute_result"
    }
   ],
   "source": [
    "df = pd.read_excel(\n",
    "                \"data.xlsx\", \n",
    "                sheet_name=\"вертикаль\"\n",
    "              )\n",
    "\n",
    "# df.loc[len(df.index)] = df.mean(axis=0)\n",
    "# df = pd.DataFrame([df[\"время_колебаний\"],  df[\"количество_колебаний\"], df[\"количество_шаров\"]]).transpose()\n",
    "df[\"moment\"] = df[\"масса\"] * df[\"плечо\"] * 9.81\n",
    "df"
   ]
  },
  {
   "cell_type": "code",
   "execution_count": 24,
   "metadata": {},
   "outputs": [
    {
     "data": {
      "image/png": "[encoded data removed]",
      "text/plain": [
       "<Figure size 1000x600 with 1 Axes>"
      ]
     },
     "metadata": {},
     "output_type": "display_data"
    },
    {
     "name": "stdout",
     "output_type": "stream",
     "text": [
      "0.4437847554750001\n"
     ]
    }
   ],
   "source": [
    "# data analise\n",
    "y = df[\"moment\"]\n",
    "x = df[\"количество_шаров\"]\n",
    "# x, y = x[:3], y[:3]\n",
    "plt.figure(figsize=(10,6))\n",
    "# plt.title('Зависимость teta от R')\n",
    "plt.xlabel('nu^2')\n",
    "plt.ylabel('1/ksi^2')\n",
    "plt.grid()\n",
    "plt.errorbar(x, y, yerr=0.000004, xerr=0, fmt='ob')\n",
    "p=np.polyfit(x, y, 1)\n",
    "# p = [p[0]+0.01, p[1]]\n",
    "xx=np.linspace(min(x), max(x), 100)\n",
    "yy=np.polyval(p, xx)\n",
    "plt.plot(xx, yy, '-r', label=f'k={p[0]:.6f}, b={p[1]:.6f}')\n",
    "plt.legend()\n",
    "plt.savefig(\"./pictures/data2.png\", bbox_inches='tight')\n",
    "plt.show()\n",
    "# gl1 = f'k={1/p[0]:.6f}'\n",
    "# print(gl1)\n",
    "# print(p)\n",
    "print(sum([i**2 for i in y])/sum([i**2 for i in x]))"
   ]
  },
  {
   "cell_type": "markdown",
   "metadata": {},
   "source": [
    ".\n",
    ".\n",
    ".\n",
    ".\n",
    ".\n",
    "part of LaTex\n",
    ".\n",
    ".\n",
    ".\n",
    ".\n",
    "."
   ]
  },
  {
   "cell_type": "code",
   "execution_count": 27,
   "metadata": {},
   "outputs": [
    {
     "name": "stdout",
     "output_type": "stream",
     "text": [
      "\\begin{tabular}{rrr}\n",
      "\\toprule\n",
      "время_колебаний & количество_колебаний & количество_шаров \\\\\n",
      "\\midrule\n",
      "23.150000 & 5.000000 & 12.000000 \\\\\n",
      "15.190000 & 5.000000 & 12.000000 \\\\\n",
      "14.260000 & 5.000000 & 11.000000 \\\\\n",
      "26.560000 & 10.000000 & 10.000000 \\\\\n",
      "23.930000 & 10.000000 & 9.000000 \\\\\n",
      "21.000000 & 10.000000 & 8.000000 \\\\\n",
      "19.000000 & 10.000000 & 7.000000 \\\\\n",
      "16.250000 & 10.000000 & 6.000000 \\\\\n",
      "13.400000 & 10.000000 & 5.000000 \\\\\n",
      "11.380000 & 10.000000 & 4.000000 \\\\\n",
      "7.030000 & 10.000000 & 3.000000 \\\\\n",
      "\\bottomrule\n",
      "\\end{tabular}\n",
      "\n"
     ]
    }
   ],
   "source": [
    "# tables from  exel to LaTex\n",
    "\n",
    "\n",
    "\n",
    "titles = []\n",
    "\n",
    "# for column in titles:\n",
    "#     data = df.to_latex\n",
    "data = df.to_latex(index=False)\n",
    "print(data)"
   ]
  }
 ],
 "metadata": {
  "kernelspec": {
   "display_name": "Python 3",
   "language": "python",
   "name": "python3"
  },
  "language_info": {
   "codemirror_mode": {
    "name": "ipython",
    "version": 3
   },
   "file_extension": ".py",
   "mimetype": "text/x-python",
   "name": "python",
   "nbconvert_exporter": "python",
   "pygments_lexer": "ipython3",
   "version": "3.10.12"
  }
 },
 "nbformat": 4,
 "nbformat_minor": 2
}
